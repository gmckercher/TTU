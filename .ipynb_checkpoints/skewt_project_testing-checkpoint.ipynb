{
 "metadata": {
  "name": "",
  "signature": "sha256:7e98ce40abb270a1c758dc6722223f5499b7fc0786e53846940e9e3cd258d1ac"
 },
 "nbformat": 3,
 "nbformat_minor": 0,
 "worksheets": []
}